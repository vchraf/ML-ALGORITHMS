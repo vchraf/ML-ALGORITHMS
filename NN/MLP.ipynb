{
  "cells": [
    {
      "cell_type": "code",
      "execution_count": 1,
      "metadata": {
        "id": "p82gwk4kwpwP"
      },
      "outputs": [],
      "source": [
        "import copy\n",
        "import math\n",
        "\n",
        "import numpy as np\n",
        "\n",
        "import torch \n",
        "from torch import nn"
      ]
    },
    {
      "cell_type": "markdown",
      "source": [
        "### **PLOT**"
      ],
      "metadata": {
        "id": "cwTkmXul3L0g"
      }
    },
    {
      "cell_type": "code",
      "source": [
        "from matplotlib import pyplot as plt"
      ],
      "metadata": {
        "id": "cIL8oj5Z0L5b"
      },
      "execution_count": 27,
      "outputs": []
    },
    {
      "cell_type": "code",
      "source": [
        "class plot:\n",
        "  def __init__(this, X, Y=None, xlabel=None, ylabel=None, legend=[],\n",
        "               xlim=None, ylim=None, xscale='linear', yscale='linear', axes=None):\n",
        "\n",
        "    def isHas1axis(X):  # True if `X` (tensor or list) has 1 axis\n",
        "        return (hasattr(X, \"ndim\") and X.ndim == 1 or isinstance(X, list) and not hasattr(X[0], \"__len__\"))\n",
        "\n",
        "    if isHas1axis(X): X = [X]\n",
        "    if Y is None: X, Y = [[]] * len(X), X\n",
        "    if isHas1axis(Y):Y = [Y]\n",
        "    if len(X) != len(Y): X = X * len(Y)\n",
        "\n",
        "    plt.rcParams['figure.figsize'] = (7,5)\n",
        "    if axes is None: \n",
        "      axes = plt.gca()#get get current axes\n",
        "    axes.cla() #Clear the current active axes.\n",
        "    for x, y in zip(X, Y):\n",
        "      if len(x):axes.plot(x,y)\n",
        "      else: axes.plot(y)\n",
        "        #axes.plot(x,y) if len(x) else axes.plot(y)\n",
        "    this.set_axes(axes, xlabel, ylabel, xlim, ylim, xscale, yscale, legend)\n",
        "\n",
        "    \n",
        "  def set_axes(this, axes, xlabel, ylabel, xlim, ylim, xscale, yscale, legend):\n",
        "    axes.set_xlabel(xlabel)\n",
        "    axes.set_ylabel(ylabel)\n",
        "    axes.set_xscale(xscale)\n",
        "    axes.set_yscale(yscale)\n",
        "    axes.set_xlim(xlim)\n",
        "    axes.set_ylim(ylim)\n",
        "    \n",
        "    if legend:\n",
        "        axes.legend(legend)\n",
        "    #axes.grid()\n",
        "\n",
        "  def set_figsize(this, figsize=(10, 2.5)):\n",
        "     plt.figure.figsize = figsize"
      ],
      "metadata": {
        "id": "Ro8guIY9u-to"
      },
      "execution_count": 28,
      "outputs": []
    },
    {
      "cell_type": "code",
      "source": [
        "def plotImages(imgs, r, c, titles=None, scale=1.5):\n",
        "  figsize = (c * scale, r * scale)\n",
        "\n",
        "  _, axes = plt.subplots(r, c, figsize=figsize)\n",
        "  \n",
        "  axes = axes.flatten()\n",
        "  for i, (ax, img) in enumerate(zip(axes, imgs)):\n",
        "    if torch.is_tensor(img):\n",
        "      ax.imshow(img.numpy())\n",
        "    else:\n",
        "      ax.imshow(img)\n",
        "      ax.axes.get_xaxis().set_visible(False)\n",
        "      ax.axes.get_yaxis().set_visible(False)\n",
        "    if titles:\n",
        "      ax.set_title(titles[i])\n",
        "  return axes"
      ],
      "metadata": {
        "id": "UKHqBH1Fub6X"
      },
      "execution_count": 29,
      "outputs": []
    },
    {
      "cell_type": "markdown",
      "source": [
        "### **Data**"
      ],
      "metadata": {
        "id": "bGEfJVuO3tW3"
      }
    },
    {
      "cell_type": "code",
      "source": [
        "import torchvision\n",
        "from torch.utils import data\n",
        "from torchvision import transforms"
      ],
      "metadata": {
        "id": "ffdgdqjM4OSs"
      },
      "execution_count": 30,
      "outputs": []
    },
    {
      "cell_type": "code",
      "source": [
        "def getFashionMNIST(batchSize, resize = None):\n",
        "  ts = []\n",
        "  if resize:\n",
        "    ts.append(transforms.Resize(resize))\n",
        "  ts.append(transforms.ToTensor())#transfrom the values of a tensor(C * H * W) from [0, 255] to [0, 1]\n",
        "  tsCombo = transforms.Compose(ts) \n",
        "  mnist_train = torchvision.datasets.FashionMNIST(root=\"../data\", train=True, transform = tsCombo, download=True)\n",
        "  mnist_test  = torchvision.datasets.FashionMNIST(root=\"../data\", train=False, transform = tsCombo, download=True)\n",
        "  _X = data.DataLoader(mnist_train, batchSize, shuffle=True, num_workers= 2)\n",
        "  _y = data.DataLoader(mnist_test, batchSize, shuffle=False, num_workers= 2)\n",
        "  return _X, _y"
      ],
      "metadata": {
        "id": "B6pUpTaA3yTM"
      },
      "execution_count": 31,
      "outputs": []
    },
    {
      "cell_type": "code",
      "source": [
        "def get_labels(labels):\n",
        "  if not hasattr(labels, \"ndim\") and not hasattr(labels, \"__len__\"): labels =  numpy.array([labels])\n",
        "  text_labels = ['t-shirt', 'trouser', 'pullover', 'dress', 'coat', 'sandal', 'shirt','sneaker', 'bag', 'ankle boot']\n",
        "  return [text_labels[int(i)] for i in labels]"
      ],
      "metadata": {
        "id": "Qp55OpUg4nxH"
      },
      "execution_count": 32,
      "outputs": []
    },
    {
      "cell_type": "code",
      "source": [
        "# def randomSimple(size):\n",
        "#   return next(iter(getFashionMNIST(size)[0]))"
      ],
      "metadata": {
        "id": "Ylaa4JbN57PI"
      },
      "execution_count": 33,
      "outputs": []
    },
    {
      "cell_type": "code",
      "source": [
        "# X_, y_ = randomSimple(18)\n",
        "# plotImages(X_.reshape(18, 28, 28), 3, 3, titles=get_labels(y_),scale=3)"
      ],
      "metadata": {
        "id": "LyQ3nuU83yMu"
      },
      "execution_count": 34,
      "outputs": []
    },
    {
      "cell_type": "code",
      "source": [
        ""
      ],
      "metadata": {
        "id": "VWC-485GubyE"
      },
      "execution_count": 34,
      "outputs": []
    },
    {
      "cell_type": "code",
      "execution_count": 35,
      "metadata": {
        "id": "hKDzoVF3-npL"
      },
      "outputs": [],
      "source": [
        "def batch_iterator(X, y=None, batch_size=64):\n",
        "  n_samples = X.shape[0]\n",
        "  for i in np.arange(0, n_samples, batch_size):\n",
        "    begin, end = i, min(i+batch_size, n_samples)\n",
        "    if y is not None:\n",
        "      yield X[begin:end], y[begin:end]\n",
        "    else:\n",
        "      yield X[begin:end]"
      ]
    },
    {
      "cell_type": "markdown",
      "source": [
        "### **LOSS**"
      ],
      "metadata": {
        "id": "PNayvC9X6zyd"
      }
    },
    {
      "cell_type": "code",
      "execution_count": 11,
      "metadata": {
        "id": "yaqMhPeOlgrV"
      },
      "outputs": [],
      "source": [
        "class Loss(object):\n",
        "  def loss(this, y_true, y_pred): return NotImplementedError()\n",
        "  def gradient(this, y, y_pred): raise NotImplementedError()\n",
        "  def acc(this, y, y_pred): return 0"
      ]
    },
    {
      "cell_type": "code",
      "execution_count": 12,
      "metadata": {
        "id": "ENt2CShmz-Bj"
      },
      "outputs": [],
      "source": [
        "class SquareLoss(Loss):\n",
        "  def __init__(this): pass\n",
        "  def loss(this, y, y_pred):return  0.5 * np.power((y - y_pred), 2)\n",
        "  def grad(this, y, y_pred):return -(y - y_pred)\n",
        "  def acc(this, y, y_pred):return accuracy_score(y, y_pred)"
      ]
    },
    {
      "cell_type": "markdown",
      "source": [
        "### **ACTIVATION**"
      ],
      "metadata": {
        "id": "MCTOxHXh7Ep9"
      }
    },
    {
      "cell_type": "code",
      "execution_count": 13,
      "metadata": {
        "id": "GvN2XqCIyowy"
      },
      "outputs": [],
      "source": [
        "class Sigmoid():\n",
        "  def __call__(this, x): return 1 / (1 + np.exp(-x))\n",
        "  def grad(this, x): return this.__call__(x) * (1 - this.__call__(x))"
      ]
    },
    {
      "cell_type": "code",
      "execution_count": 14,
      "metadata": {
        "id": "KH5rAIhKzOyz"
      },
      "outputs": [],
      "source": [
        "class ReLU():\n",
        "  def __call__(this, x):return np.where(x >= 0, x, 0)\n",
        "  def grad(this, x):return np.where(x >= 0, 1, 0)"
      ]
    },
    {
      "cell_type": "markdown",
      "source": [
        "### **OPTIM**"
      ],
      "metadata": {
        "id": "U6YvhUgX7Mlz"
      }
    },
    {
      "cell_type": "code",
      "execution_count": 15,
      "metadata": {
        "id": "o7blSuJ30znZ"
      },
      "outputs": [],
      "source": [
        "class StochasticGradientDescent():\n",
        "    def __init__(self, learning_rate=0.01, momentum=0):\n",
        "        self.learning_rate = learning_rate \n",
        "        self.momentum = momentum\n",
        "        self.w_updt = None\n",
        "\n",
        "    def update(self, w, grad_wrt_w):\n",
        "        # If not initialized\n",
        "        if self.w_updt is None:\n",
        "            self.w_updt = np.zeros(np.shape(w))\n",
        "        # Use momentum if set\n",
        "        self.w_updt = self.momentum * self.w_updt + (1 - self.momentum) * grad_wrt_w\n",
        "        # Move against the gradient to minimize loss\n",
        "        return w - self.learning_rate * self.w_updt"
      ]
    },
    {
      "cell_type": "code",
      "execution_count": 16,
      "metadata": {
        "id": "jnpXypSgVzdF"
      },
      "outputs": [],
      "source": [
        "class Adam():\n",
        "    def __init__(self, learning_rate=0.001, b1=0.9, b2=0.999):\n",
        "        self.learning_rate = learning_rate\n",
        "        self.eps = 1e-8\n",
        "        self.m = None\n",
        "        self.v = None\n",
        "        # Decay rates\n",
        "        self.b1 = b1\n",
        "        self.b2 = b2\n",
        "\n",
        "    def update(self, w, grad_wrt_w):\n",
        "        # If not initialized\n",
        "        if self.m is None:\n",
        "            self.m = np.zeros(np.shape(grad_wrt_w))\n",
        "            self.v = np.zeros(np.shape(grad_wrt_w))\n",
        "        \n",
        "        self.m = self.b1 * self.m + (1 - self.b1) * grad_wrt_w\n",
        "        self.v = self.b2 * self.v + (1 - self.b2) * np.power(grad_wrt_w, 2)\n",
        "\n",
        "        m_hat = self.m / (1 - self.b1)\n",
        "        v_hat = self.v / (1 - self.b2)\n",
        "\n",
        "        self.w_updt = self.learning_rate * m_hat / (np.sqrt(v_hat) + self.eps)\n",
        "\n",
        "        return w - self.w_updt"
      ]
    },
    {
      "cell_type": "markdown",
      "source": [
        "### **LAYERS**"
      ],
      "metadata": {
        "id": "PnPlbPY17Rhf"
      }
    },
    {
      "cell_type": "code",
      "execution_count": 17,
      "metadata": {
        "id": "KtTabl552Q1E"
      },
      "outputs": [],
      "source": [
        "class Layer(object):\n",
        "  def setInputShape(this, shape): this.inputShape = shape\n",
        "  def layerName(this): return this.__class__.__name__\n",
        "  def parameters(this): return 0\n",
        "  def forwardPass(this, X, training): raise NotImplementedError()\n",
        "  def backwardPass(this, accumGrad): raise NotImplementedError()\n",
        "  def outputShape(this): raise NotImplementedError()"
      ]
    },
    {
      "cell_type": "code",
      "execution_count": 18,
      "metadata": {
        "id": "PdLgVKqY43UX"
      },
      "outputs": [],
      "source": [
        "class Dense(Layer):\n",
        "  def __init__(this, nbrUnits, inputShape = None):\n",
        "    this.layerInput = None\n",
        "    this.inputShape = inputShape\n",
        "    this.nbrUnits   = nbrUnits\n",
        "    this.trainable  = True\n",
        "    this.w          = None # Weight\n",
        "    this.w0         = None # Bias\n",
        "\n",
        "  #Weight initialization\n",
        "  def initialize(this, optimizer):\n",
        "    limit = 1 / math.sqrt(this.inputShape[0])\n",
        "    this.w  = np.random.uniform(-limit, limit, (this.inputShape[0], this.nbrUnits))\n",
        "    this.w0 = np.zeros((1, this.nbrUnits))\n",
        "\n",
        "    this.w_opt  = copy.copy(optimizer)\n",
        "    this.w0_opt = copy.copy(optimizer)\n",
        "  \n",
        "  #get the number of parameters\n",
        "  def parameters(this): \n",
        "    return np.prod(this.w.shape) + np.prod(this.w0.shape)\n",
        "\n",
        "  #forward pass X.w + b\n",
        "  def forwardPass(this, X, training=True):\n",
        "    this.layerInput = X\n",
        "    return X.dot(this.w) + this.w0\n",
        "  \n",
        "  def backwardPass(this, accumGrad):\n",
        "    # Save weights used during forwards pass\n",
        "    w = this.w\n",
        "\n",
        "    if this.trainable:\n",
        "        # Calculate gradient w.r.t layer weights\n",
        "        grad_w = this.layerInput.T.dot(accumGrad)\n",
        "        grad_w0 = np.sum(accumGrad, axis=0, keepdims=True)\n",
        "\n",
        "        # Update the layer weights\n",
        "        this.w  = this.w_opt.update(this.w, grad_w)\n",
        "        this.w0 = this.w0_opt.update(this.w0, grad_w0)\n",
        "\n",
        "    # Return accumulated gradient for next layer\n",
        "    # Calculated based on the weights used during the forward pass\n",
        "    accum_grad = accumGrad.dot(w.T)\n",
        "    return accum_grad\n",
        "\n",
        "  def outputShape(this):\n",
        "    return (this.nbrUnits, ) "
      ]
    },
    {
      "cell_type": "code",
      "execution_count": 19,
      "metadata": {
        "id": "hyc5unB5zGpO"
      },
      "outputs": [],
      "source": [
        "class Activation(Layer):  \n",
        "  def __init__(this, name):\n",
        "      activation_functions = {'relu': ReLU, 'sigmoid': Sigmoid}\n",
        "      this.activation_name = name\n",
        "      this.activation_func = activation_functions[name]()\n",
        "      this.trainable = True\n",
        "\n",
        "  def layerName(this):\n",
        "      return \"Activation (%s)\" % (this.activation_func.__class__.__name__)\n",
        "\n",
        "  def forwardPass(this, X, training=True):\n",
        "      this.layerInput = X\n",
        "      return this.activation_func(X)\n",
        "\n",
        "  def backwardPass(this, accumGrad):\n",
        "      return accumGrad * this.activation_func.grad(this.layerInput)\n",
        "\n",
        "  def outputShape(this):\n",
        "      return this.inputShape"
      ]
    },
    {
      "cell_type": "markdown",
      "source": [
        "### **NN**"
      ],
      "metadata": {
        "id": "VLPUPvl17ZpK"
      }
    },
    {
      "cell_type": "code",
      "execution_count": 20,
      "metadata": {
        "id": "3mYDyZxuVyc-"
      },
      "outputs": [],
      "source": [
        "class NN_():\n",
        "  def __init__(this, optimizer, loss, validationData = None):\n",
        "    this.optimizer  = optimizer\n",
        "    this.layers     = []\n",
        "    this.errors     = {\"training\": [], \"validation\":[]}\n",
        "    this.lossFun    = loss()\n",
        "    # this.progBar    = progressbar.ProgressBar(widgets= ['Training: ', progressbar.Percentage(), ' ', progressbar.Bar(marker=\"-\", left=\"[\", right=\"]\"), ' ', progressbar.ETA()])\n",
        "    this.valSet     = None\n",
        "    \n",
        "    if validationData:\n",
        "      X, y = validationData\n",
        "      this.valSet = {\"X\": X, \"y\": y}\n",
        "\n",
        "  def setTrainable(this, trainable):\n",
        "    for layer in this.layers:\n",
        "      layer.trainable = trainable\n",
        "\n",
        "  def add(this, layer):\n",
        "    if this.layers:\n",
        "      layer.setInputShape(shape = this.layers[-1].outputShape())\n",
        "    \n",
        "    if hasattr(layer, 'initialize'):\n",
        "      layer.initialize(optimizer=this.optimizer)\n",
        "\n",
        "    this.layers.append(layer)\n",
        "    \n",
        "  def _forwardPass(this, X, training=True):\n",
        "      layer_output = X\n",
        "      for ix, layer in enumerate(this.layers):\n",
        "          layer_output = layer.forwardPass(layer_output, training)\n",
        "\n",
        "      return layer_output\n",
        "\n",
        "  def _backwardPass(this, loss_grad):\n",
        "    for layer in reversed(this.layers):\n",
        "        loss_grad = layer.backwardPass(loss_grad)\n",
        "    \n",
        "  def test_OnBatch(this, X, y):\n",
        "    y_pred  = this._forwardPass(X, training = False)\n",
        "    loss    = np.mean(this.lossFun.loss(y, y_pred))\n",
        "    acc     = this.lossFun.acc(y, y_pred)\n",
        "    return loss, acc\n",
        "\n",
        "  def train_OnBatch(this, X, y):\n",
        "    y_pred    = this._forwardPass(X)\n",
        "    loss      = np.mean(this.lossFun.loss(y= y, y_pred= y_pred))\n",
        "    acc       = this.lossFun.acc(y, y_pred)\n",
        "    loss_grad = this.lossFun.grad(y, y_pred)\n",
        "    this._backwardPass(loss_grad = loss_grad)\n",
        "    return loss, acc\n",
        "  \n",
        "  def fit(this, X, y, n_epochs, batch_size):\n",
        "    for _  in range(n_epochs):\n",
        "        batch_error = []\n",
        "        for X_batch, y_batch in batch_iterator(X,y,batch_size):\n",
        "          loss,acc= this.train_OnBatch(X_batch, y_batch)\n",
        "          batch_error.append(loss)\n",
        "\n",
        "        this.errors[\"training\"].append(np.mean(batch_error))\n",
        "        if this.valSet is not None:\n",
        "          val_loss=this.test_OnBatch(this.valSet[\"X\"], this.valSet[\"y\"]) \n",
        "          this.errors[\"validation\"].append(val_loss)\n",
        "    print(\"done!!\")\n",
        "    return this.errors[\"training\"], this.errors[\"validation\"]\n",
        "  def predict(this, X):\n",
        "    return this._forwardPass(X, training=False)"
      ]
    },
    {
      "cell_type": "markdown",
      "source": [
        "### **PyTorch Version**"
      ],
      "metadata": {
        "id": "G9F1dDQeuX1l"
      }
    },
    {
      "cell_type": "code",
      "source": [
        "class NN(nn.Module):\n",
        "  \n",
        "  def __init__(this, inSize, outSize):\n",
        "    super().__init__()\n",
        "    this.classifier = nn.Sequential(\n",
        "        nn.Flatten(),\n",
        "        nn.Linear(inSize,inSize*2),\n",
        "        nn.ReLU(),\n",
        "\n",
        "        nn.Linear(inSize*2,inSize*7),\n",
        "        nn.ReLU(),\n",
        "        \n",
        "        nn.Linear(inSize*7,inSize*7),\n",
        "        nn.ReLU(),\n",
        "\n",
        "        nn.Linear(inSize*7,inSize*7),\n",
        "        nn.ReLU(),\n",
        "\n",
        "        nn.Linear(inSize*7,inSize*7),\n",
        "        nn.ReLU(),\n",
        "\n",
        "        nn.Linear(inSize*7,inSize*7),\n",
        "        nn.ReLU(),\n",
        "\n",
        "        nn.Linear(inSize*7,outSize),\n",
        "        nn.Sigmoid(),\n",
        "    )\n",
        "\n",
        "  def forward(this, X):\n",
        "    return  this.classifier(X)\n"
      ],
      "metadata": {
        "id": "7Ibu7jtW06s1"
      },
      "execution_count": 21,
      "outputs": []
    },
    {
      "cell_type": "markdown",
      "source": [
        "### **TEST NN**"
      ],
      "metadata": {
        "id": "NyqAolgf7io7"
      }
    },
    {
      "cell_type": "code",
      "source": [
        "from sklearn.model_selection import train_test_split"
      ],
      "metadata": {
        "id": "zj_6a0IW8S3u"
      },
      "execution_count": 22,
      "outputs": []
    },
    {
      "cell_type": "code",
      "execution_count": 23,
      "metadata": {
        "id": "NRShUyAPVzW9"
      },
      "outputs": [],
      "source": [
        "def accuracy_score(y_true, y_pred):\n",
        "    accuracy = np.sum(y_true == y_pred, axis=0) / len(y_true)\n",
        "    return accuracy"
      ]
    },
    {
      "cell_type": "code",
      "execution_count": 24,
      "metadata": {
        "id": "bJnHOKqfsQGU"
      },
      "outputs": [],
      "source": [
        "def oneHot(x, nbrCol=None):\n",
        "  if not nbrCol: nbrCol = np.max(x) + 1\n",
        "  one_hot = np.zeros((x.shape[0], nbrCol))\n",
        "  one_hot[np.arange(x.shape[0]), x] = 1\n",
        "  return one_hot"
      ]
    },
    {
      "cell_type": "code",
      "source": [
        "# data = getFashionMNIST(batchSize=500,resize=8)"
      ],
      "metadata": {
        "id": "IKy-WR_bE-RJ",
        "colab": {
          "base_uri": "https://localhost:8080/",
          "height": 423,
          "referenced_widgets": [
            "f4d91f75d2d643b892c75cd26be5be6b",
            "f3ee1d26722c477092129defab9dee79",
            "4cd95ce694ca446babf8acd57633e89e",
            "c11eb522039041e685341635af962072",
            "f5474a57159a4931a295e2dc45594559",
            "ab8215b8a390444db5db4cbd691f3e91",
            "07ebb975eb644bce86650ce7f9974765",
            "22e8a84a7dae4fb1836643031228f37e",
            "a1271c090dbd4f769ff85418e06e6eae",
            "375b9ed292c648f39a08586b15edcdd2",
            "fa74b52b3baa448994f4e457265590b0",
            "654f328f2ec644738ef0e881aaf15e20",
            "148d40dc29c74ee1b4a0213c4391be76",
            "01d24a500e154b37851f810148e8319d",
            "5626483bcb574111a0c398ae8baaf190",
            "e4c539ef75d44eb195ad1189dcd09032",
            "2e94ae23b8664dcda8ea1884ac84c34c",
            "f63d11056dc546aaa2170efcf82b4fbd",
            "c4d40a000a7d42e9a0b1a303135b0d7e",
            "17321458a0084870953f18750ebe1290",
            "f7a67ad26df546e19691db6663d42f77",
            "d0368f32485a4921bed6ecfa87d95e6e",
            "80dd81cb4ae94be18e39ef99c93705e3",
            "72d06999e39746dbb574b58b63445167",
            "64967a3e2c2e43d681413aec62f6b3a1",
            "ff431c8cf1d0433598aa8251ad4098ad",
            "40a3135c2e2943589650431da23859be",
            "398f1fb608134c33aab54554dc6272ee",
            "7b27865050e2496fb2234144b6aee2c8",
            "a4f073d261a54c8fac70c86e5a3f940b",
            "c775bba56fb347bda67f73f494e5ce0a",
            "388aac85c413445ab88ba78d18332402",
            "46018fe1af81400fb0ed0d0e0417db6b",
            "cb8d67eaf8864dfc83f24b8992e6659a",
            "401d3cd2fbdc4226ae6cbad7096ab7bb",
            "a8cf57f1d55644029cbbc1d3250c4c51",
            "8911cc8fb4e44a1faf06ec7d89e2f161",
            "cbfde61d0259456b86263e44257ae351",
            "f7bf55aad5ff4f5d9fb25f41165412f5",
            "314e31e8519f4a3d9b6edf91a5b96676",
            "a1d11e0ec870494cb44b63d7ad029f8c",
            "37a6b37115b84b18bb53405da72949c7",
            "9873b5e4f4814845ae1fd24c685bd51f",
            "31b60ef494b44e2b91bf33c96cd848a8"
          ]
        },
        "outputId": "e1b61e24-0533-47d3-88cf-3114dcf72469"
      },
      "execution_count": 36,
      "outputs": [
        {
          "output_type": "stream",
          "name": "stdout",
          "text": [
            "Downloading http://fashion-mnist.s3-website.eu-central-1.amazonaws.com/train-images-idx3-ubyte.gz\n",
            "Downloading http://fashion-mnist.s3-website.eu-central-1.amazonaws.com/train-images-idx3-ubyte.gz to ../data/FashionMNIST/raw/train-images-idx3-ubyte.gz\n"
          ]
        },
        {
          "output_type": "display_data",
          "data": {
            "text/plain": [
              "  0%|          | 0/26421880 [00:00<?, ?it/s]"
            ],
            "application/vnd.jupyter.widget-view+json": {
              "version_major": 2,
              "version_minor": 0,
              "model_id": "f4d91f75d2d643b892c75cd26be5be6b"
            }
          },
          "metadata": {}
        },
        {
          "output_type": "stream",
          "name": "stdout",
          "text": [
            "Extracting ../data/FashionMNIST/raw/train-images-idx3-ubyte.gz to ../data/FashionMNIST/raw\n",
            "\n",
            "Downloading http://fashion-mnist.s3-website.eu-central-1.amazonaws.com/train-labels-idx1-ubyte.gz\n",
            "Downloading http://fashion-mnist.s3-website.eu-central-1.amazonaws.com/train-labels-idx1-ubyte.gz to ../data/FashionMNIST/raw/train-labels-idx1-ubyte.gz\n"
          ]
        },
        {
          "output_type": "display_data",
          "data": {
            "text/plain": [
              "  0%|          | 0/29515 [00:00<?, ?it/s]"
            ],
            "application/vnd.jupyter.widget-view+json": {
              "version_major": 2,
              "version_minor": 0,
              "model_id": "654f328f2ec644738ef0e881aaf15e20"
            }
          },
          "metadata": {}
        },
        {
          "output_type": "stream",
          "name": "stdout",
          "text": [
            "Extracting ../data/FashionMNIST/raw/train-labels-idx1-ubyte.gz to ../data/FashionMNIST/raw\n",
            "\n",
            "Downloading http://fashion-mnist.s3-website.eu-central-1.amazonaws.com/t10k-images-idx3-ubyte.gz\n",
            "Downloading http://fashion-mnist.s3-website.eu-central-1.amazonaws.com/t10k-images-idx3-ubyte.gz to ../data/FashionMNIST/raw/t10k-images-idx3-ubyte.gz\n"
          ]
        },
        {
          "output_type": "display_data",
          "data": {
            "text/plain": [
              "  0%|          | 0/4422102 [00:00<?, ?it/s]"
            ],
            "application/vnd.jupyter.widget-view+json": {
              "version_major": 2,
              "version_minor": 0,
              "model_id": "80dd81cb4ae94be18e39ef99c93705e3"
            }
          },
          "metadata": {}
        },
        {
          "output_type": "stream",
          "name": "stdout",
          "text": [
            "Extracting ../data/FashionMNIST/raw/t10k-images-idx3-ubyte.gz to ../data/FashionMNIST/raw\n",
            "\n",
            "Downloading http://fashion-mnist.s3-website.eu-central-1.amazonaws.com/t10k-labels-idx1-ubyte.gz\n",
            "Downloading http://fashion-mnist.s3-website.eu-central-1.amazonaws.com/t10k-labels-idx1-ubyte.gz to ../data/FashionMNIST/raw/t10k-labels-idx1-ubyte.gz\n"
          ]
        },
        {
          "output_type": "display_data",
          "data": {
            "text/plain": [
              "  0%|          | 0/5148 [00:00<?, ?it/s]"
            ],
            "application/vnd.jupyter.widget-view+json": {
              "version_major": 2,
              "version_minor": 0,
              "model_id": "cb8d67eaf8864dfc83f24b8992e6659a"
            }
          },
          "metadata": {}
        },
        {
          "output_type": "stream",
          "name": "stdout",
          "text": [
            "Extracting ../data/FashionMNIST/raw/t10k-labels-idx1-ubyte.gz to ../data/FashionMNIST/raw\n",
            "\n"
          ]
        }
      ]
    },
    {
      "cell_type": "code",
      "source": [
        "X_, y_ = next(iter(data[0]))"
      ],
      "metadata": {
        "id": "-jcyKgkME-RK"
      },
      "execution_count": 38,
      "outputs": []
    },
    {
      "cell_type": "code",
      "source": [
        "X = []\n",
        "for i in X_:\n",
        "  X.append(torch.reshape(i,(64,)).cpu().detach().numpy())\n",
        "X = np.array(X)\n",
        "\n",
        "y = oneHot(y_.cpu().detach().numpy())"
      ],
      "metadata": {
        "id": "k171rhqGYKuH"
      },
      "execution_count": 39,
      "outputs": []
    },
    {
      "cell_type": "code",
      "execution_count": 40,
      "metadata": {
        "id": "-lqgnNl-r6_F"
      },
      "outputs": [],
      "source": [
        "optimizer = Adam()\n",
        "n_hidden = 100\n",
        "n_samples, n_features = X.shape\n",
        "X_train, X_test, y_train, y_test = train_test_split(X, y, test_size=0.3, random_state=72)"
      ]
    },
    {
      "cell_type": "code",
      "execution_count": 43,
      "metadata": {
        "colab": {
          "base_uri": "https://localhost:8080/"
        },
        "id": "gl9NUhh3xtIP",
        "outputId": "afe65e6d-ec66-4840-871a-748c6762b5fc"
      },
      "outputs": [
        {
          "output_type": "stream",
          "name": "stdout",
          "text": [
            "done!!\n"
          ]
        }
      ],
      "source": [
        "mlp = NN_(optimizer= optimizer,loss= SquareLoss,validationData=(X_test, y_test))\n",
        "mlp.add(Dense(n_hidden, inputShape=(n_features, )))\n",
        "mlp.add(Activation('relu'))\n",
        "mlp.add(Dense(10))\n",
        "mlp.add(Activation('sigmoid'))\n",
        "train_err, val_err = mlp.fit(X_train, y_train, n_epochs=200, batch_size=256)\n"
      ]
    },
    {
      "cell_type": "code",
      "execution_count": 44,
      "metadata": {
        "id": "a7Pc-ULiVzR7",
        "colab": {
          "base_uri": "https://localhost:8080/"
        },
        "outputId": "6ce1119b-0e77-4b61-ba89-703f39e734a6"
      },
      "outputs": [
        {
          "output_type": "execute_result",
          "data": {
            "text/plain": [
              "0.6266666666666667"
            ]
          },
          "metadata": {},
          "execution_count": 44
        }
      ],
      "source": [
        "yp = np.argmax(mlp.predict(X_test), axis=1)\n",
        "yt = np.argmax(y_test, axis=1)\n",
        "accuracy_score(y_true=yt,y_pred=yp)"
      ]
    },
    {
      "cell_type": "markdown",
      "source": [
        "### **TEST pytorch**"
      ],
      "metadata": {
        "id": "r9_iEFDE6U2e"
      }
    },
    {
      "cell_type": "code",
      "source": [
        "from torch.autograd import Variable"
      ],
      "metadata": {
        "id": "Fe_6WY8p7PeO"
      },
      "execution_count": 45,
      "outputs": []
    },
    {
      "cell_type": "code",
      "source": [
        "from torchsummary import summary\n",
        "model = NN(inSize=64 ,outSize=10)\n",
        "summary(model,(1,8,8))"
      ],
      "metadata": {
        "colab": {
          "base_uri": "https://localhost:8080/"
        },
        "id": "fLBUFIOt6cMv",
        "outputId": "e1140110-5134-415d-c26e-223811d132e4"
      },
      "execution_count": 47,
      "outputs": [
        {
          "output_type": "stream",
          "name": "stdout",
          "text": [
            "----------------------------------------------------------------\n",
            "        Layer (type)               Output Shape         Param #\n",
            "================================================================\n",
            "           Flatten-1                   [-1, 64]               0\n",
            "            Linear-2                  [-1, 128]           8,320\n",
            "              ReLU-3                  [-1, 128]               0\n",
            "            Linear-4                  [-1, 448]          57,792\n",
            "              ReLU-5                  [-1, 448]               0\n",
            "            Linear-6                  [-1, 448]         201,152\n",
            "              ReLU-7                  [-1, 448]               0\n",
            "            Linear-8                  [-1, 448]         201,152\n",
            "              ReLU-9                  [-1, 448]               0\n",
            "           Linear-10                  [-1, 448]         201,152\n",
            "             ReLU-11                  [-1, 448]               0\n",
            "           Linear-12                  [-1, 448]         201,152\n",
            "             ReLU-13                  [-1, 448]               0\n",
            "           Linear-14                   [-1, 10]           4,490\n",
            "          Sigmoid-15                   [-1, 10]               0\n",
            "================================================================\n",
            "Total params: 875,210\n",
            "Trainable params: 875,210\n",
            "Non-trainable params: 0\n",
            "----------------------------------------------------------------\n",
            "Input size (MB): 0.00\n",
            "Forward/backward pass size (MB): 0.04\n",
            "Params size (MB): 3.34\n",
            "Estimated Total Size (MB): 3.38\n",
            "----------------------------------------------------------------\n"
          ]
        }
      ]
    },
    {
      "cell_type": "code",
      "source": [
        "LossFun   = nn.CrossEntropyLoss()\n",
        "optimizer = torch.optim.Adagrad(model.parameters(), lr = 0.001)"
      ],
      "metadata": {
        "id": "EBquzQHb71Uw"
      },
      "execution_count": 48,
      "outputs": []
    },
    {
      "cell_type": "code",
      "source": [
        "# X,y = getFashionMNIST(batchSize=100)"
      ],
      "metadata": {
        "id": "peDW3FlZA7Je"
      },
      "execution_count": null,
      "outputs": []
    },
    {
      "cell_type": "code",
      "source": [
        "X__,y__ = data"
      ],
      "metadata": {
        "id": "kkcWKBD-DLma"
      },
      "execution_count": 52,
      "outputs": []
    },
    {
      "cell_type": "code",
      "source": [
        "inputs"
      ],
      "metadata": {
        "id": "k3vnrSUXEES0"
      },
      "execution_count": null,
      "outputs": []
    },
    {
      "cell_type": "code",
      "source": [
        "total_step = len(X__)\n",
        "for epoch in range(5):\n",
        "    for i, (images,labels) in enumerate(X__):\n",
        "        images = Variable(images.float())\n",
        "        labels = Variable(labels)\n",
        "        \n",
        "        # Forward pass\n",
        "        outputs = model(images)\n",
        "        loss = LossFun(outputs, labels)\n",
        "        \n",
        "        # Backward and optimize\n",
        "        optimizer.zero_grad()\n",
        "        loss.backward()\n",
        "        optimizer.step()\n",
        "        \n",
        "        if (i+1) % 100 == 0:\n",
        "            print ('Epoch [{}/{}], Step [{}/{}], Loss: {:.4f}' \n",
        "                   .format(epoch+1, 5, i+1, total_step, loss.item()))"
      ],
      "metadata": {
        "colab": {
          "base_uri": "https://localhost:8080/"
        },
        "id": "PeI8H-PvwwAI",
        "outputId": "2258c7a1-77c7-49b9-98a1-c39b59734d5d"
      },
      "execution_count": 53,
      "outputs": [
        {
          "output_type": "stream",
          "name": "stdout",
          "text": [
            "Epoch [1/5], Step [100/120], Loss: 1.8838\n",
            "Epoch [2/5], Step [100/120], Loss: 1.8384\n",
            "Epoch [3/5], Step [100/120], Loss: 1.8496\n",
            "Epoch [4/5], Step [100/120], Loss: 1.8106\n",
            "Epoch [5/5], Step [100/120], Loss: 1.8185\n"
          ]
        }
      ]
    },
    {
      "cell_type": "code",
      "source": [
        "model.eval()  # eval mode (batchnorm uses moving mean/variance instead of mini-batch mean/variance)\n",
        "with torch.no_grad():\n",
        "    correct = 0\n",
        "    total = 0\n",
        "    for images, labels in y__:\n",
        "        images = Variable(images.float())\n",
        "        labels = Variable(labels)\n",
        "        outputs = model(images)\n",
        "        _, predicted = torch.max(outputs.data, 1)\n",
        "        total += labels.size(0)\n",
        "        correct += (predicted == labels).sum().item()"
      ],
      "metadata": {
        "id": "Cfq8ukpJy-uG"
      },
      "execution_count": 54,
      "outputs": []
    },
    {
      "cell_type": "code",
      "source": [
        "print('Test Accuracy of the model on the 10000 test images: {} %'.format(100 * correct / total))"
      ],
      "metadata": {
        "colab": {
          "base_uri": "https://localhost:8080/"
        },
        "id": "WviRBD9izEA1",
        "outputId": "268c2d3e-9bf2-4f39-c4d7-83ea6ea9ccbc"
      },
      "execution_count": 55,
      "outputs": [
        {
          "output_type": "stream",
          "name": "stdout",
          "text": [
            "Test Accuracy of the model on the 10000 test images: 21.62 %\n"
          ]
        }
      ]
    }
  ],
  "metadata": {
    "colab": {
      "collapsed_sections": [],
      "name": "MLP.ipynb",
      "provenance": []
    },
    "kernelspec": {
      "display_name": "Python 3",
      "name": "python3"
    },
    "language_info": {
      "name": "python"
    },
    "widgets": {
      "application/vnd.jupyter.widget-state+json": {
        "f4d91f75d2d643b892c75cd26be5be6b": {
          "model_module": "@jupyter-widgets/controls",
          "model_name": "HBoxModel",
          "model_module_version": "1.5.0",
          "state": {
            "_dom_classes": [],
            "_model_module": "@jupyter-widgets/controls",
            "_model_module_version": "1.5.0",
            "_model_name": "HBoxModel",
            "_view_count": null,
            "_view_module": "@jupyter-widgets/controls",
            "_view_module_version": "1.5.0",
            "_view_name": "HBoxView",
            "box_style": "",
            "children": [
              "IPY_MODEL_f3ee1d26722c477092129defab9dee79",
              "IPY_MODEL_4cd95ce694ca446babf8acd57633e89e",
              "IPY_MODEL_c11eb522039041e685341635af962072"
            ],
            "layout": "IPY_MODEL_f5474a57159a4931a295e2dc45594559"
          }
        },
        "f3ee1d26722c477092129defab9dee79": {
          "model_module": "@jupyter-widgets/controls",
          "model_name": "HTMLModel",
          "model_module_version": "1.5.0",
          "state": {
            "_dom_classes": [],
            "_model_module": "@jupyter-widgets/controls",
            "_model_module_version": "1.5.0",
            "_model_name": "HTMLModel",
            "_view_count": null,
            "_view_module": "@jupyter-widgets/controls",
            "_view_module_version": "1.5.0",
            "_view_name": "HTMLView",
            "description": "",
            "description_tooltip": null,
            "layout": "IPY_MODEL_ab8215b8a390444db5db4cbd691f3e91",
            "placeholder": "​",
            "style": "IPY_MODEL_07ebb975eb644bce86650ce7f9974765",
            "value": ""
          }
        },
        "4cd95ce694ca446babf8acd57633e89e": {
          "model_module": "@jupyter-widgets/controls",
          "model_name": "FloatProgressModel",
          "model_module_version": "1.5.0",
          "state": {
            "_dom_classes": [],
            "_model_module": "@jupyter-widgets/controls",
            "_model_module_version": "1.5.0",
            "_model_name": "FloatProgressModel",
            "_view_count": null,
            "_view_module": "@jupyter-widgets/controls",
            "_view_module_version": "1.5.0",
            "_view_name": "ProgressView",
            "bar_style": "success",
            "description": "",
            "description_tooltip": null,
            "layout": "IPY_MODEL_22e8a84a7dae4fb1836643031228f37e",
            "max": 26421880,
            "min": 0,
            "orientation": "horizontal",
            "style": "IPY_MODEL_a1271c090dbd4f769ff85418e06e6eae",
            "value": 26421880
          }
        },
        "c11eb522039041e685341635af962072": {
          "model_module": "@jupyter-widgets/controls",
          "model_name": "HTMLModel",
          "model_module_version": "1.5.0",
          "state": {
            "_dom_classes": [],
            "_model_module": "@jupyter-widgets/controls",
            "_model_module_version": "1.5.0",
            "_model_name": "HTMLModel",
            "_view_count": null,
            "_view_module": "@jupyter-widgets/controls",
            "_view_module_version": "1.5.0",
            "_view_name": "HTMLView",
            "description": "",
            "description_tooltip": null,
            "layout": "IPY_MODEL_375b9ed292c648f39a08586b15edcdd2",
            "placeholder": "​",
            "style": "IPY_MODEL_fa74b52b3baa448994f4e457265590b0",
            "value": " 26422272/? [00:03&lt;00:00, 10727936.24it/s]"
          }
        },
        "f5474a57159a4931a295e2dc45594559": {
          "model_module": "@jupyter-widgets/base",
          "model_name": "LayoutModel",
          "model_module_version": "1.2.0",
          "state": {
            "_model_module": "@jupyter-widgets/base",
            "_model_module_version": "1.2.0",
            "_model_name": "LayoutModel",
            "_view_count": null,
            "_view_module": "@jupyter-widgets/base",
            "_view_module_version": "1.2.0",
            "_view_name": "LayoutView",
            "align_content": null,
            "align_items": null,
            "align_self": null,
            "border": null,
            "bottom": null,
            "display": null,
            "flex": null,
            "flex_flow": null,
            "grid_area": null,
            "grid_auto_columns": null,
            "grid_auto_flow": null,
            "grid_auto_rows": null,
            "grid_column": null,
            "grid_gap": null,
            "grid_row": null,
            "grid_template_areas": null,
            "grid_template_columns": null,
            "grid_template_rows": null,
            "height": null,
            "justify_content": null,
            "justify_items": null,
            "left": null,
            "margin": null,
            "max_height": null,
            "max_width": null,
            "min_height": null,
            "min_width": null,
            "object_fit": null,
            "object_position": null,
            "order": null,
            "overflow": null,
            "overflow_x": null,
            "overflow_y": null,
            "padding": null,
            "right": null,
            "top": null,
            "visibility": null,
            "width": null
          }
        },
        "ab8215b8a390444db5db4cbd691f3e91": {
          "model_module": "@jupyter-widgets/base",
          "model_name": "LayoutModel",
          "model_module_version": "1.2.0",
          "state": {
            "_model_module": "@jupyter-widgets/base",
            "_model_module_version": "1.2.0",
            "_model_name": "LayoutModel",
            "_view_count": null,
            "_view_module": "@jupyter-widgets/base",
            "_view_module_version": "1.2.0",
            "_view_name": "LayoutView",
            "align_content": null,
            "align_items": null,
            "align_self": null,
            "border": null,
            "bottom": null,
            "display": null,
            "flex": null,
            "flex_flow": null,
            "grid_area": null,
            "grid_auto_columns": null,
            "grid_auto_flow": null,
            "grid_auto_rows": null,
            "grid_column": null,
            "grid_gap": null,
            "grid_row": null,
            "grid_template_areas": null,
            "grid_template_columns": null,
            "grid_template_rows": null,
            "height": null,
            "justify_content": null,
            "justify_items": null,
            "left": null,
            "margin": null,
            "max_height": null,
            "max_width": null,
            "min_height": null,
            "min_width": null,
            "object_fit": null,
            "object_position": null,
            "order": null,
            "overflow": null,
            "overflow_x": null,
            "overflow_y": null,
            "padding": null,
            "right": null,
            "top": null,
            "visibility": null,
            "width": null
          }
        },
        "07ebb975eb644bce86650ce7f9974765": {
          "model_module": "@jupyter-widgets/controls",
          "model_name": "DescriptionStyleModel",
          "model_module_version": "1.5.0",
          "state": {
            "_model_module": "@jupyter-widgets/controls",
            "_model_module_version": "1.5.0",
            "_model_name": "DescriptionStyleModel",
            "_view_count": null,
            "_view_module": "@jupyter-widgets/base",
            "_view_module_version": "1.2.0",
            "_view_name": "StyleView",
            "description_width": ""
          }
        },
        "22e8a84a7dae4fb1836643031228f37e": {
          "model_module": "@jupyter-widgets/base",
          "model_name": "LayoutModel",
          "model_module_version": "1.2.0",
          "state": {
            "_model_module": "@jupyter-widgets/base",
            "_model_module_version": "1.2.0",
            "_model_name": "LayoutModel",
            "_view_count": null,
            "_view_module": "@jupyter-widgets/base",
            "_view_module_version": "1.2.0",
            "_view_name": "LayoutView",
            "align_content": null,
            "align_items": null,
            "align_self": null,
            "border": null,
            "bottom": null,
            "display": null,
            "flex": null,
            "flex_flow": null,
            "grid_area": null,
            "grid_auto_columns": null,
            "grid_auto_flow": null,
            "grid_auto_rows": null,
            "grid_column": null,
            "grid_gap": null,
            "grid_row": null,
            "grid_template_areas": null,
            "grid_template_columns": null,
            "grid_template_rows": null,
            "height": null,
            "justify_content": null,
            "justify_items": null,
            "left": null,
            "margin": null,
            "max_height": null,
            "max_width": null,
            "min_height": null,
            "min_width": null,
            "object_fit": null,
            "object_position": null,
            "order": null,
            "overflow": null,
            "overflow_x": null,
            "overflow_y": null,
            "padding": null,
            "right": null,
            "top": null,
            "visibility": null,
            "width": null
          }
        },
        "a1271c090dbd4f769ff85418e06e6eae": {
          "model_module": "@jupyter-widgets/controls",
          "model_name": "ProgressStyleModel",
          "model_module_version": "1.5.0",
          "state": {
            "_model_module": "@jupyter-widgets/controls",
            "_model_module_version": "1.5.0",
            "_model_name": "ProgressStyleModel",
            "_view_count": null,
            "_view_module": "@jupyter-widgets/base",
            "_view_module_version": "1.2.0",
            "_view_name": "StyleView",
            "bar_color": null,
            "description_width": ""
          }
        },
        "375b9ed292c648f39a08586b15edcdd2": {
          "model_module": "@jupyter-widgets/base",
          "model_name": "LayoutModel",
          "model_module_version": "1.2.0",
          "state": {
            "_model_module": "@jupyter-widgets/base",
            "_model_module_version": "1.2.0",
            "_model_name": "LayoutModel",
            "_view_count": null,
            "_view_module": "@jupyter-widgets/base",
            "_view_module_version": "1.2.0",
            "_view_name": "LayoutView",
            "align_content": null,
            "align_items": null,
            "align_self": null,
            "border": null,
            "bottom": null,
            "display": null,
            "flex": null,
            "flex_flow": null,
            "grid_area": null,
            "grid_auto_columns": null,
            "grid_auto_flow": null,
            "grid_auto_rows": null,
            "grid_column": null,
            "grid_gap": null,
            "grid_row": null,
            "grid_template_areas": null,
            "grid_template_columns": null,
            "grid_template_rows": null,
            "height": null,
            "justify_content": null,
            "justify_items": null,
            "left": null,
            "margin": null,
            "max_height": null,
            "max_width": null,
            "min_height": null,
            "min_width": null,
            "object_fit": null,
            "object_position": null,
            "order": null,
            "overflow": null,
            "overflow_x": null,
            "overflow_y": null,
            "padding": null,
            "right": null,
            "top": null,
            "visibility": null,
            "width": null
          }
        },
        "fa74b52b3baa448994f4e457265590b0": {
          "model_module": "@jupyter-widgets/controls",
          "model_name": "DescriptionStyleModel",
          "model_module_version": "1.5.0",
          "state": {
            "_model_module": "@jupyter-widgets/controls",
            "_model_module_version": "1.5.0",
            "_model_name": "DescriptionStyleModel",
            "_view_count": null,
            "_view_module": "@jupyter-widgets/base",
            "_view_module_version": "1.2.0",
            "_view_name": "StyleView",
            "description_width": ""
          }
        },
        "654f328f2ec644738ef0e881aaf15e20": {
          "model_module": "@jupyter-widgets/controls",
          "model_name": "HBoxModel",
          "model_module_version": "1.5.0",
          "state": {
            "_dom_classes": [],
            "_model_module": "@jupyter-widgets/controls",
            "_model_module_version": "1.5.0",
            "_model_name": "HBoxModel",
            "_view_count": null,
            "_view_module": "@jupyter-widgets/controls",
            "_view_module_version": "1.5.0",
            "_view_name": "HBoxView",
            "box_style": "",
            "children": [
              "IPY_MODEL_148d40dc29c74ee1b4a0213c4391be76",
              "IPY_MODEL_01d24a500e154b37851f810148e8319d",
              "IPY_MODEL_5626483bcb574111a0c398ae8baaf190"
            ],
            "layout": "IPY_MODEL_e4c539ef75d44eb195ad1189dcd09032"
          }
        },
        "148d40dc29c74ee1b4a0213c4391be76": {
          "model_module": "@jupyter-widgets/controls",
          "model_name": "HTMLModel",
          "model_module_version": "1.5.0",
          "state": {
            "_dom_classes": [],
            "_model_module": "@jupyter-widgets/controls",
            "_model_module_version": "1.5.0",
            "_model_name": "HTMLModel",
            "_view_count": null,
            "_view_module": "@jupyter-widgets/controls",
            "_view_module_version": "1.5.0",
            "_view_name": "HTMLView",
            "description": "",
            "description_tooltip": null,
            "layout": "IPY_MODEL_2e94ae23b8664dcda8ea1884ac84c34c",
            "placeholder": "​",
            "style": "IPY_MODEL_f63d11056dc546aaa2170efcf82b4fbd",
            "value": ""
          }
        },
        "01d24a500e154b37851f810148e8319d": {
          "model_module": "@jupyter-widgets/controls",
          "model_name": "FloatProgressModel",
          "model_module_version": "1.5.0",
          "state": {
            "_dom_classes": [],
            "_model_module": "@jupyter-widgets/controls",
            "_model_module_version": "1.5.0",
            "_model_name": "FloatProgressModel",
            "_view_count": null,
            "_view_module": "@jupyter-widgets/controls",
            "_view_module_version": "1.5.0",
            "_view_name": "ProgressView",
            "bar_style": "success",
            "description": "",
            "description_tooltip": null,
            "layout": "IPY_MODEL_c4d40a000a7d42e9a0b1a303135b0d7e",
            "max": 29515,
            "min": 0,
            "orientation": "horizontal",
            "style": "IPY_MODEL_17321458a0084870953f18750ebe1290",
            "value": 29515
          }
        },
        "5626483bcb574111a0c398ae8baaf190": {
          "model_module": "@jupyter-widgets/controls",
          "model_name": "HTMLModel",
          "model_module_version": "1.5.0",
          "state": {
            "_dom_classes": [],
            "_model_module": "@jupyter-widgets/controls",
            "_model_module_version": "1.5.0",
            "_model_name": "HTMLModel",
            "_view_count": null,
            "_view_module": "@jupyter-widgets/controls",
            "_view_module_version": "1.5.0",
            "_view_name": "HTMLView",
            "description": "",
            "description_tooltip": null,
            "layout": "IPY_MODEL_f7a67ad26df546e19691db6663d42f77",
            "placeholder": "​",
            "style": "IPY_MODEL_d0368f32485a4921bed6ecfa87d95e6e",
            "value": " 29696/? [00:00&lt;00:00, 56075.98it/s]"
          }
        },
        "e4c539ef75d44eb195ad1189dcd09032": {
          "model_module": "@jupyter-widgets/base",
          "model_name": "LayoutModel",
          "model_module_version": "1.2.0",
          "state": {
            "_model_module": "@jupyter-widgets/base",
            "_model_module_version": "1.2.0",
            "_model_name": "LayoutModel",
            "_view_count": null,
            "_view_module": "@jupyter-widgets/base",
            "_view_module_version": "1.2.0",
            "_view_name": "LayoutView",
            "align_content": null,
            "align_items": null,
            "align_self": null,
            "border": null,
            "bottom": null,
            "display": null,
            "flex": null,
            "flex_flow": null,
            "grid_area": null,
            "grid_auto_columns": null,
            "grid_auto_flow": null,
            "grid_auto_rows": null,
            "grid_column": null,
            "grid_gap": null,
            "grid_row": null,
            "grid_template_areas": null,
            "grid_template_columns": null,
            "grid_template_rows": null,
            "height": null,
            "justify_content": null,
            "justify_items": null,
            "left": null,
            "margin": null,
            "max_height": null,
            "max_width": null,
            "min_height": null,
            "min_width": null,
            "object_fit": null,
            "object_position": null,
            "order": null,
            "overflow": null,
            "overflow_x": null,
            "overflow_y": null,
            "padding": null,
            "right": null,
            "top": null,
            "visibility": null,
            "width": null
          }
        },
        "2e94ae23b8664dcda8ea1884ac84c34c": {
          "model_module": "@jupyter-widgets/base",
          "model_name": "LayoutModel",
          "model_module_version": "1.2.0",
          "state": {
            "_model_module": "@jupyter-widgets/base",
            "_model_module_version": "1.2.0",
            "_model_name": "LayoutModel",
            "_view_count": null,
            "_view_module": "@jupyter-widgets/base",
            "_view_module_version": "1.2.0",
            "_view_name": "LayoutView",
            "align_content": null,
            "align_items": null,
            "align_self": null,
            "border": null,
            "bottom": null,
            "display": null,
            "flex": null,
            "flex_flow": null,
            "grid_area": null,
            "grid_auto_columns": null,
            "grid_auto_flow": null,
            "grid_auto_rows": null,
            "grid_column": null,
            "grid_gap": null,
            "grid_row": null,
            "grid_template_areas": null,
            "grid_template_columns": null,
            "grid_template_rows": null,
            "height": null,
            "justify_content": null,
            "justify_items": null,
            "left": null,
            "margin": null,
            "max_height": null,
            "max_width": null,
            "min_height": null,
            "min_width": null,
            "object_fit": null,
            "object_position": null,
            "order": null,
            "overflow": null,
            "overflow_x": null,
            "overflow_y": null,
            "padding": null,
            "right": null,
            "top": null,
            "visibility": null,
            "width": null
          }
        },
        "f63d11056dc546aaa2170efcf82b4fbd": {
          "model_module": "@jupyter-widgets/controls",
          "model_name": "DescriptionStyleModel",
          "model_module_version": "1.5.0",
          "state": {
            "_model_module": "@jupyter-widgets/controls",
            "_model_module_version": "1.5.0",
            "_model_name": "DescriptionStyleModel",
            "_view_count": null,
            "_view_module": "@jupyter-widgets/base",
            "_view_module_version": "1.2.0",
            "_view_name": "StyleView",
            "description_width": ""
          }
        },
        "c4d40a000a7d42e9a0b1a303135b0d7e": {
          "model_module": "@jupyter-widgets/base",
          "model_name": "LayoutModel",
          "model_module_version": "1.2.0",
          "state": {
            "_model_module": "@jupyter-widgets/base",
            "_model_module_version": "1.2.0",
            "_model_name": "LayoutModel",
            "_view_count": null,
            "_view_module": "@jupyter-widgets/base",
            "_view_module_version": "1.2.0",
            "_view_name": "LayoutView",
            "align_content": null,
            "align_items": null,
            "align_self": null,
            "border": null,
            "bottom": null,
            "display": null,
            "flex": null,
            "flex_flow": null,
            "grid_area": null,
            "grid_auto_columns": null,
            "grid_auto_flow": null,
            "grid_auto_rows": null,
            "grid_column": null,
            "grid_gap": null,
            "grid_row": null,
            "grid_template_areas": null,
            "grid_template_columns": null,
            "grid_template_rows": null,
            "height": null,
            "justify_content": null,
            "justify_items": null,
            "left": null,
            "margin": null,
            "max_height": null,
            "max_width": null,
            "min_height": null,
            "min_width": null,
            "object_fit": null,
            "object_position": null,
            "order": null,
            "overflow": null,
            "overflow_x": null,
            "overflow_y": null,
            "padding": null,
            "right": null,
            "top": null,
            "visibility": null,
            "width": null
          }
        },
        "17321458a0084870953f18750ebe1290": {
          "model_module": "@jupyter-widgets/controls",
          "model_name": "ProgressStyleModel",
          "model_module_version": "1.5.0",
          "state": {
            "_model_module": "@jupyter-widgets/controls",
            "_model_module_version": "1.5.0",
            "_model_name": "ProgressStyleModel",
            "_view_count": null,
            "_view_module": "@jupyter-widgets/base",
            "_view_module_version": "1.2.0",
            "_view_name": "StyleView",
            "bar_color": null,
            "description_width": ""
          }
        },
        "f7a67ad26df546e19691db6663d42f77": {
          "model_module": "@jupyter-widgets/base",
          "model_name": "LayoutModel",
          "model_module_version": "1.2.0",
          "state": {
            "_model_module": "@jupyter-widgets/base",
            "_model_module_version": "1.2.0",
            "_model_name": "LayoutModel",
            "_view_count": null,
            "_view_module": "@jupyter-widgets/base",
            "_view_module_version": "1.2.0",
            "_view_name": "LayoutView",
            "align_content": null,
            "align_items": null,
            "align_self": null,
            "border": null,
            "bottom": null,
            "display": null,
            "flex": null,
            "flex_flow": null,
            "grid_area": null,
            "grid_auto_columns": null,
            "grid_auto_flow": null,
            "grid_auto_rows": null,
            "grid_column": null,
            "grid_gap": null,
            "grid_row": null,
            "grid_template_areas": null,
            "grid_template_columns": null,
            "grid_template_rows": null,
            "height": null,
            "justify_content": null,
            "justify_items": null,
            "left": null,
            "margin": null,
            "max_height": null,
            "max_width": null,
            "min_height": null,
            "min_width": null,
            "object_fit": null,
            "object_position": null,
            "order": null,
            "overflow": null,
            "overflow_x": null,
            "overflow_y": null,
            "padding": null,
            "right": null,
            "top": null,
            "visibility": null,
            "width": null
          }
        },
        "d0368f32485a4921bed6ecfa87d95e6e": {
          "model_module": "@jupyter-widgets/controls",
          "model_name": "DescriptionStyleModel",
          "model_module_version": "1.5.0",
          "state": {
            "_model_module": "@jupyter-widgets/controls",
            "_model_module_version": "1.5.0",
            "_model_name": "DescriptionStyleModel",
            "_view_count": null,
            "_view_module": "@jupyter-widgets/base",
            "_view_module_version": "1.2.0",
            "_view_name": "StyleView",
            "description_width": ""
          }
        },
        "80dd81cb4ae94be18e39ef99c93705e3": {
          "model_module": "@jupyter-widgets/controls",
          "model_name": "HBoxModel",
          "model_module_version": "1.5.0",
          "state": {
            "_dom_classes": [],
            "_model_module": "@jupyter-widgets/controls",
            "_model_module_version": "1.5.0",
            "_model_name": "HBoxModel",
            "_view_count": null,
            "_view_module": "@jupyter-widgets/controls",
            "_view_module_version": "1.5.0",
            "_view_name": "HBoxView",
            "box_style": "",
            "children": [
              "IPY_MODEL_72d06999e39746dbb574b58b63445167",
              "IPY_MODEL_64967a3e2c2e43d681413aec62f6b3a1",
              "IPY_MODEL_ff431c8cf1d0433598aa8251ad4098ad"
            ],
            "layout": "IPY_MODEL_40a3135c2e2943589650431da23859be"
          }
        },
        "72d06999e39746dbb574b58b63445167": {
          "model_module": "@jupyter-widgets/controls",
          "model_name": "HTMLModel",
          "model_module_version": "1.5.0",
          "state": {
            "_dom_classes": [],
            "_model_module": "@jupyter-widgets/controls",
            "_model_module_version": "1.5.0",
            "_model_name": "HTMLModel",
            "_view_count": null,
            "_view_module": "@jupyter-widgets/controls",
            "_view_module_version": "1.5.0",
            "_view_name": "HTMLView",
            "description": "",
            "description_tooltip": null,
            "layout": "IPY_MODEL_398f1fb608134c33aab54554dc6272ee",
            "placeholder": "​",
            "style": "IPY_MODEL_7b27865050e2496fb2234144b6aee2c8",
            "value": ""
          }
        },
        "64967a3e2c2e43d681413aec62f6b3a1": {
          "model_module": "@jupyter-widgets/controls",
          "model_name": "FloatProgressModel",
          "model_module_version": "1.5.0",
          "state": {
            "_dom_classes": [],
            "_model_module": "@jupyter-widgets/controls",
            "_model_module_version": "1.5.0",
            "_model_name": "FloatProgressModel",
            "_view_count": null,
            "_view_module": "@jupyter-widgets/controls",
            "_view_module_version": "1.5.0",
            "_view_name": "ProgressView",
            "bar_style": "success",
            "description": "",
            "description_tooltip": null,
            "layout": "IPY_MODEL_a4f073d261a54c8fac70c86e5a3f940b",
            "max": 4422102,
            "min": 0,
            "orientation": "horizontal",
            "style": "IPY_MODEL_c775bba56fb347bda67f73f494e5ce0a",
            "value": 4422102
          }
        },
        "ff431c8cf1d0433598aa8251ad4098ad": {
          "model_module": "@jupyter-widgets/controls",
          "model_name": "HTMLModel",
          "model_module_version": "1.5.0",
          "state": {
            "_dom_classes": [],
            "_model_module": "@jupyter-widgets/controls",
            "_model_module_version": "1.5.0",
            "_model_name": "HTMLModel",
            "_view_count": null,
            "_view_module": "@jupyter-widgets/controls",
            "_view_module_version": "1.5.0",
            "_view_name": "HTMLView",
            "description": "",
            "description_tooltip": null,
            "layout": "IPY_MODEL_388aac85c413445ab88ba78d18332402",
            "placeholder": "​",
            "style": "IPY_MODEL_46018fe1af81400fb0ed0d0e0417db6b",
            "value": " 4422656/? [00:02&lt;00:00, 2808984.47it/s]"
          }
        },
        "40a3135c2e2943589650431da23859be": {
          "model_module": "@jupyter-widgets/base",
          "model_name": "LayoutModel",
          "model_module_version": "1.2.0",
          "state": {
            "_model_module": "@jupyter-widgets/base",
            "_model_module_version": "1.2.0",
            "_model_name": "LayoutModel",
            "_view_count": null,
            "_view_module": "@jupyter-widgets/base",
            "_view_module_version": "1.2.0",
            "_view_name": "LayoutView",
            "align_content": null,
            "align_items": null,
            "align_self": null,
            "border": null,
            "bottom": null,
            "display": null,
            "flex": null,
            "flex_flow": null,
            "grid_area": null,
            "grid_auto_columns": null,
            "grid_auto_flow": null,
            "grid_auto_rows": null,
            "grid_column": null,
            "grid_gap": null,
            "grid_row": null,
            "grid_template_areas": null,
            "grid_template_columns": null,
            "grid_template_rows": null,
            "height": null,
            "justify_content": null,
            "justify_items": null,
            "left": null,
            "margin": null,
            "max_height": null,
            "max_width": null,
            "min_height": null,
            "min_width": null,
            "object_fit": null,
            "object_position": null,
            "order": null,
            "overflow": null,
            "overflow_x": null,
            "overflow_y": null,
            "padding": null,
            "right": null,
            "top": null,
            "visibility": null,
            "width": null
          }
        },
        "398f1fb608134c33aab54554dc6272ee": {
          "model_module": "@jupyter-widgets/base",
          "model_name": "LayoutModel",
          "model_module_version": "1.2.0",
          "state": {
            "_model_module": "@jupyter-widgets/base",
            "_model_module_version": "1.2.0",
            "_model_name": "LayoutModel",
            "_view_count": null,
            "_view_module": "@jupyter-widgets/base",
            "_view_module_version": "1.2.0",
            "_view_name": "LayoutView",
            "align_content": null,
            "align_items": null,
            "align_self": null,
            "border": null,
            "bottom": null,
            "display": null,
            "flex": null,
            "flex_flow": null,
            "grid_area": null,
            "grid_auto_columns": null,
            "grid_auto_flow": null,
            "grid_auto_rows": null,
            "grid_column": null,
            "grid_gap": null,
            "grid_row": null,
            "grid_template_areas": null,
            "grid_template_columns": null,
            "grid_template_rows": null,
            "height": null,
            "justify_content": null,
            "justify_items": null,
            "left": null,
            "margin": null,
            "max_height": null,
            "max_width": null,
            "min_height": null,
            "min_width": null,
            "object_fit": null,
            "object_position": null,
            "order": null,
            "overflow": null,
            "overflow_x": null,
            "overflow_y": null,
            "padding": null,
            "right": null,
            "top": null,
            "visibility": null,
            "width": null
          }
        },
        "7b27865050e2496fb2234144b6aee2c8": {
          "model_module": "@jupyter-widgets/controls",
          "model_name": "DescriptionStyleModel",
          "model_module_version": "1.5.0",
          "state": {
            "_model_module": "@jupyter-widgets/controls",
            "_model_module_version": "1.5.0",
            "_model_name": "DescriptionStyleModel",
            "_view_count": null,
            "_view_module": "@jupyter-widgets/base",
            "_view_module_version": "1.2.0",
            "_view_name": "StyleView",
            "description_width": ""
          }
        },
        "a4f073d261a54c8fac70c86e5a3f940b": {
          "model_module": "@jupyter-widgets/base",
          "model_name": "LayoutModel",
          "model_module_version": "1.2.0",
          "state": {
            "_model_module": "@jupyter-widgets/base",
            "_model_module_version": "1.2.0",
            "_model_name": "LayoutModel",
            "_view_count": null,
            "_view_module": "@jupyter-widgets/base",
            "_view_module_version": "1.2.0",
            "_view_name": "LayoutView",
            "align_content": null,
            "align_items": null,
            "align_self": null,
            "border": null,
            "bottom": null,
            "display": null,
            "flex": null,
            "flex_flow": null,
            "grid_area": null,
            "grid_auto_columns": null,
            "grid_auto_flow": null,
            "grid_auto_rows": null,
            "grid_column": null,
            "grid_gap": null,
            "grid_row": null,
            "grid_template_areas": null,
            "grid_template_columns": null,
            "grid_template_rows": null,
            "height": null,
            "justify_content": null,
            "justify_items": null,
            "left": null,
            "margin": null,
            "max_height": null,
            "max_width": null,
            "min_height": null,
            "min_width": null,
            "object_fit": null,
            "object_position": null,
            "order": null,
            "overflow": null,
            "overflow_x": null,
            "overflow_y": null,
            "padding": null,
            "right": null,
            "top": null,
            "visibility": null,
            "width": null
          }
        },
        "c775bba56fb347bda67f73f494e5ce0a": {
          "model_module": "@jupyter-widgets/controls",
          "model_name": "ProgressStyleModel",
          "model_module_version": "1.5.0",
          "state": {
            "_model_module": "@jupyter-widgets/controls",
            "_model_module_version": "1.5.0",
            "_model_name": "ProgressStyleModel",
            "_view_count": null,
            "_view_module": "@jupyter-widgets/base",
            "_view_module_version": "1.2.0",
            "_view_name": "StyleView",
            "bar_color": null,
            "description_width": ""
          }
        },
        "388aac85c413445ab88ba78d18332402": {
          "model_module": "@jupyter-widgets/base",
          "model_name": "LayoutModel",
          "model_module_version": "1.2.0",
          "state": {
            "_model_module": "@jupyter-widgets/base",
            "_model_module_version": "1.2.0",
            "_model_name": "LayoutModel",
            "_view_count": null,
            "_view_module": "@jupyter-widgets/base",
            "_view_module_version": "1.2.0",
            "_view_name": "LayoutView",
            "align_content": null,
            "align_items": null,
            "align_self": null,
            "border": null,
            "bottom": null,
            "display": null,
            "flex": null,
            "flex_flow": null,
            "grid_area": null,
            "grid_auto_columns": null,
            "grid_auto_flow": null,
            "grid_auto_rows": null,
            "grid_column": null,
            "grid_gap": null,
            "grid_row": null,
            "grid_template_areas": null,
            "grid_template_columns": null,
            "grid_template_rows": null,
            "height": null,
            "justify_content": null,
            "justify_items": null,
            "left": null,
            "margin": null,
            "max_height": null,
            "max_width": null,
            "min_height": null,
            "min_width": null,
            "object_fit": null,
            "object_position": null,
            "order": null,
            "overflow": null,
            "overflow_x": null,
            "overflow_y": null,
            "padding": null,
            "right": null,
            "top": null,
            "visibility": null,
            "width": null
          }
        },
        "46018fe1af81400fb0ed0d0e0417db6b": {
          "model_module": "@jupyter-widgets/controls",
          "model_name": "DescriptionStyleModel",
          "model_module_version": "1.5.0",
          "state": {
            "_model_module": "@jupyter-widgets/controls",
            "_model_module_version": "1.5.0",
            "_model_name": "DescriptionStyleModel",
            "_view_count": null,
            "_view_module": "@jupyter-widgets/base",
            "_view_module_version": "1.2.0",
            "_view_name": "StyleView",
            "description_width": ""
          }
        },
        "cb8d67eaf8864dfc83f24b8992e6659a": {
          "model_module": "@jupyter-widgets/controls",
          "model_name": "HBoxModel",
          "model_module_version": "1.5.0",
          "state": {
            "_dom_classes": [],
            "_model_module": "@jupyter-widgets/controls",
            "_model_module_version": "1.5.0",
            "_model_name": "HBoxModel",
            "_view_count": null,
            "_view_module": "@jupyter-widgets/controls",
            "_view_module_version": "1.5.0",
            "_view_name": "HBoxView",
            "box_style": "",
            "children": [
              "IPY_MODEL_401d3cd2fbdc4226ae6cbad7096ab7bb",
              "IPY_MODEL_a8cf57f1d55644029cbbc1d3250c4c51",
              "IPY_MODEL_8911cc8fb4e44a1faf06ec7d89e2f161"
            ],
            "layout": "IPY_MODEL_cbfde61d0259456b86263e44257ae351"
          }
        },
        "401d3cd2fbdc4226ae6cbad7096ab7bb": {
          "model_module": "@jupyter-widgets/controls",
          "model_name": "HTMLModel",
          "model_module_version": "1.5.0",
          "state": {
            "_dom_classes": [],
            "_model_module": "@jupyter-widgets/controls",
            "_model_module_version": "1.5.0",
            "_model_name": "HTMLModel",
            "_view_count": null,
            "_view_module": "@jupyter-widgets/controls",
            "_view_module_version": "1.5.0",
            "_view_name": "HTMLView",
            "description": "",
            "description_tooltip": null,
            "layout": "IPY_MODEL_f7bf55aad5ff4f5d9fb25f41165412f5",
            "placeholder": "​",
            "style": "IPY_MODEL_314e31e8519f4a3d9b6edf91a5b96676",
            "value": ""
          }
        },
        "a8cf57f1d55644029cbbc1d3250c4c51": {
          "model_module": "@jupyter-widgets/controls",
          "model_name": "FloatProgressModel",
          "model_module_version": "1.5.0",
          "state": {
            "_dom_classes": [],
            "_model_module": "@jupyter-widgets/controls",
            "_model_module_version": "1.5.0",
            "_model_name": "FloatProgressModel",
            "_view_count": null,
            "_view_module": "@jupyter-widgets/controls",
            "_view_module_version": "1.5.0",
            "_view_name": "ProgressView",
            "bar_style": "success",
            "description": "",
            "description_tooltip": null,
            "layout": "IPY_MODEL_a1d11e0ec870494cb44b63d7ad029f8c",
            "max": 5148,
            "min": 0,
            "orientation": "horizontal",
            "style": "IPY_MODEL_37a6b37115b84b18bb53405da72949c7",
            "value": 5148
          }
        },
        "8911cc8fb4e44a1faf06ec7d89e2f161": {
          "model_module": "@jupyter-widgets/controls",
          "model_name": "HTMLModel",
          "model_module_version": "1.5.0",
          "state": {
            "_dom_classes": [],
            "_model_module": "@jupyter-widgets/controls",
            "_model_module_version": "1.5.0",
            "_model_name": "HTMLModel",
            "_view_count": null,
            "_view_module": "@jupyter-widgets/controls",
            "_view_module_version": "1.5.0",
            "_view_name": "HTMLView",
            "description": "",
            "description_tooltip": null,
            "layout": "IPY_MODEL_9873b5e4f4814845ae1fd24c685bd51f",
            "placeholder": "​",
            "style": "IPY_MODEL_31b60ef494b44e2b91bf33c96cd848a8",
            "value": " 6144/? [00:00&lt;00:00, 129021.91it/s]"
          }
        },
        "cbfde61d0259456b86263e44257ae351": {
          "model_module": "@jupyter-widgets/base",
          "model_name": "LayoutModel",
          "model_module_version": "1.2.0",
          "state": {
            "_model_module": "@jupyter-widgets/base",
            "_model_module_version": "1.2.0",
            "_model_name": "LayoutModel",
            "_view_count": null,
            "_view_module": "@jupyter-widgets/base",
            "_view_module_version": "1.2.0",
            "_view_name": "LayoutView",
            "align_content": null,
            "align_items": null,
            "align_self": null,
            "border": null,
            "bottom": null,
            "display": null,
            "flex": null,
            "flex_flow": null,
            "grid_area": null,
            "grid_auto_columns": null,
            "grid_auto_flow": null,
            "grid_auto_rows": null,
            "grid_column": null,
            "grid_gap": null,
            "grid_row": null,
            "grid_template_areas": null,
            "grid_template_columns": null,
            "grid_template_rows": null,
            "height": null,
            "justify_content": null,
            "justify_items": null,
            "left": null,
            "margin": null,
            "max_height": null,
            "max_width": null,
            "min_height": null,
            "min_width": null,
            "object_fit": null,
            "object_position": null,
            "order": null,
            "overflow": null,
            "overflow_x": null,
            "overflow_y": null,
            "padding": null,
            "right": null,
            "top": null,
            "visibility": null,
            "width": null
          }
        },
        "f7bf55aad5ff4f5d9fb25f41165412f5": {
          "model_module": "@jupyter-widgets/base",
          "model_name": "LayoutModel",
          "model_module_version": "1.2.0",
          "state": {
            "_model_module": "@jupyter-widgets/base",
            "_model_module_version": "1.2.0",
            "_model_name": "LayoutModel",
            "_view_count": null,
            "_view_module": "@jupyter-widgets/base",
            "_view_module_version": "1.2.0",
            "_view_name": "LayoutView",
            "align_content": null,
            "align_items": null,
            "align_self": null,
            "border": null,
            "bottom": null,
            "display": null,
            "flex": null,
            "flex_flow": null,
            "grid_area": null,
            "grid_auto_columns": null,
            "grid_auto_flow": null,
            "grid_auto_rows": null,
            "grid_column": null,
            "grid_gap": null,
            "grid_row": null,
            "grid_template_areas": null,
            "grid_template_columns": null,
            "grid_template_rows": null,
            "height": null,
            "justify_content": null,
            "justify_items": null,
            "left": null,
            "margin": null,
            "max_height": null,
            "max_width": null,
            "min_height": null,
            "min_width": null,
            "object_fit": null,
            "object_position": null,
            "order": null,
            "overflow": null,
            "overflow_x": null,
            "overflow_y": null,
            "padding": null,
            "right": null,
            "top": null,
            "visibility": null,
            "width": null
          }
        },
        "314e31e8519f4a3d9b6edf91a5b96676": {
          "model_module": "@jupyter-widgets/controls",
          "model_name": "DescriptionStyleModel",
          "model_module_version": "1.5.0",
          "state": {
            "_model_module": "@jupyter-widgets/controls",
            "_model_module_version": "1.5.0",
            "_model_name": "DescriptionStyleModel",
            "_view_count": null,
            "_view_module": "@jupyter-widgets/base",
            "_view_module_version": "1.2.0",
            "_view_name": "StyleView",
            "description_width": ""
          }
        },
        "a1d11e0ec870494cb44b63d7ad029f8c": {
          "model_module": "@jupyter-widgets/base",
          "model_name": "LayoutModel",
          "model_module_version": "1.2.0",
          "state": {
            "_model_module": "@jupyter-widgets/base",
            "_model_module_version": "1.2.0",
            "_model_name": "LayoutModel",
            "_view_count": null,
            "_view_module": "@jupyter-widgets/base",
            "_view_module_version": "1.2.0",
            "_view_name": "LayoutView",
            "align_content": null,
            "align_items": null,
            "align_self": null,
            "border": null,
            "bottom": null,
            "display": null,
            "flex": null,
            "flex_flow": null,
            "grid_area": null,
            "grid_auto_columns": null,
            "grid_auto_flow": null,
            "grid_auto_rows": null,
            "grid_column": null,
            "grid_gap": null,
            "grid_row": null,
            "grid_template_areas": null,
            "grid_template_columns": null,
            "grid_template_rows": null,
            "height": null,
            "justify_content": null,
            "justify_items": null,
            "left": null,
            "margin": null,
            "max_height": null,
            "max_width": null,
            "min_height": null,
            "min_width": null,
            "object_fit": null,
            "object_position": null,
            "order": null,
            "overflow": null,
            "overflow_x": null,
            "overflow_y": null,
            "padding": null,
            "right": null,
            "top": null,
            "visibility": null,
            "width": null
          }
        },
        "37a6b37115b84b18bb53405da72949c7": {
          "model_module": "@jupyter-widgets/controls",
          "model_name": "ProgressStyleModel",
          "model_module_version": "1.5.0",
          "state": {
            "_model_module": "@jupyter-widgets/controls",
            "_model_module_version": "1.5.0",
            "_model_name": "ProgressStyleModel",
            "_view_count": null,
            "_view_module": "@jupyter-widgets/base",
            "_view_module_version": "1.2.0",
            "_view_name": "StyleView",
            "bar_color": null,
            "description_width": ""
          }
        },
        "9873b5e4f4814845ae1fd24c685bd51f": {
          "model_module": "@jupyter-widgets/base",
          "model_name": "LayoutModel",
          "model_module_version": "1.2.0",
          "state": {
            "_model_module": "@jupyter-widgets/base",
            "_model_module_version": "1.2.0",
            "_model_name": "LayoutModel",
            "_view_count": null,
            "_view_module": "@jupyter-widgets/base",
            "_view_module_version": "1.2.0",
            "_view_name": "LayoutView",
            "align_content": null,
            "align_items": null,
            "align_self": null,
            "border": null,
            "bottom": null,
            "display": null,
            "flex": null,
            "flex_flow": null,
            "grid_area": null,
            "grid_auto_columns": null,
            "grid_auto_flow": null,
            "grid_auto_rows": null,
            "grid_column": null,
            "grid_gap": null,
            "grid_row": null,
            "grid_template_areas": null,
            "grid_template_columns": null,
            "grid_template_rows": null,
            "height": null,
            "justify_content": null,
            "justify_items": null,
            "left": null,
            "margin": null,
            "max_height": null,
            "max_width": null,
            "min_height": null,
            "min_width": null,
            "object_fit": null,
            "object_position": null,
            "order": null,
            "overflow": null,
            "overflow_x": null,
            "overflow_y": null,
            "padding": null,
            "right": null,
            "top": null,
            "visibility": null,
            "width": null
          }
        },
        "31b60ef494b44e2b91bf33c96cd848a8": {
          "model_module": "@jupyter-widgets/controls",
          "model_name": "DescriptionStyleModel",
          "model_module_version": "1.5.0",
          "state": {
            "_model_module": "@jupyter-widgets/controls",
            "_model_module_version": "1.5.0",
            "_model_name": "DescriptionStyleModel",
            "_view_count": null,
            "_view_module": "@jupyter-widgets/base",
            "_view_module_version": "1.2.0",
            "_view_name": "StyleView",
            "description_width": ""
          }
        }
      }
    }
  },
  "nbformat": 4,
  "nbformat_minor": 0
}